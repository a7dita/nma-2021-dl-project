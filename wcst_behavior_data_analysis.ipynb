{
 "cells": [
  {
   "cell_type": "code",
   "execution_count": 3,
   "id": "b1bc0754",
   "metadata": {},
   "outputs": [],
   "source": [
    "import numpy as np\n",
    "import pandas as pd\n",
    "from matplotlib import pyplot as plt"
   ]
  },
  {
   "cell_type": "code",
   "execution_count": 2,
   "id": "0fe2242f",
   "metadata": {},
   "outputs": [],
   "source": [
    "!wget -O \"wcst_behavior.csv\" \"https://osf.io/q7kej/download\""
   ]
  },
  {
   "cell_type": "code",
   "execution_count": 4,
   "id": "0e64d253",
   "metadata": {},
   "outputs": [
    {
     "data": {
      "text/plain": [
       "Index(['subjID', 'gain', 'loss', 'odd_response', 'RT', 'meta_choice',\n",
       "       'rule_choice', 'resp_choice', 'resp_color', 'resp_form', 'resp_number'],\n",
       "      dtype='object')"
      ]
     },
     "execution_count": 4,
     "metadata": {},
     "output_type": "execute_result"
    }
   ],
   "source": [
    "df = pd.read_csv(\"wcst_behavior.csv\", sep=\" \")\n",
    "df.columns"
   ]
  },
  {
   "cell_type": "code",
   "execution_count": 63,
   "id": "fd22373c",
   "metadata": {
    "scrolled": false
   },
   "outputs": [
    {
     "name": "stdout",
     "output_type": "stream",
     "text": [
      "[2, 6, 4, 3, 2, 1, 2, 3, 2, 1, 1, 4, 1, 1, 1, 2, 2, 6, 1, 1]\n",
      "min: 1 max: 12\n"
     ]
    }
   ],
   "source": [
    "gain = df[\"gain\"].to_numpy()\n",
    "\n",
    "li = []\n",
    "streak = 0\n",
    "\n",
    "for i in range(1, gain.shape[0]):\n",
    "    \n",
    "    if gain[i] == 1:\n",
    "        streak += 1\n",
    "    elif gain[i] == 0 and gain[i-1] == 1:\n",
    "   \n",
    "        li.append(streak)\n",
    "        streak = 0 #reset\n",
    "    \n",
    "print(li[:20])\n",
    "print(\"min:\", min(li), \"max:\", max(li))"
   ]
  },
  {
   "cell_type": "code",
   "execution_count": 56,
   "id": "aa5c1ba6",
   "metadata": {},
   "outputs": [
    {
     "data": {
      "text/plain": [
       "<matplotlib.lines.Line2D at 0x7fb13eb670a0>"
      ]
     },
     "execution_count": 56,
     "metadata": {},
     "output_type": "execute_result"
    },
    {
     "data": {
      "image/png": "[encoded data removed]",
      "text/plain": [
       "<Figure size 432x288 with 1 Axes>"
      ]
     },
     "metadata": {
      "needs_background": "light"
     },
     "output_type": "display_data"
    }
   ],
   "source": [
    "plt.hist(li)\n",
    "plt.axvline(sum(li)/len(li), color='r', linestyle='dashed', linewidth=1)"
   ]
  },
  {
   "cell_type": "code",
   "execution_count": 48,
   "id": "6dd618c1",
   "metadata": {},
   "outputs": [
    {
     "name": "stdout",
     "output_type": "stream",
     "text": [
      "375\n",
      "{1, 3, 4, 5, 6, 7, 8, 9, 10, 11, 13, 14, 15, 16, 17, 18, 19, 20, 21, 22, 23, 24, 25, 27, 28, 29, 31, 32, 33, 34, 35, 37, 39, 40, 41, 43, 44, 45, 46, 47, 48, 49, 50, 52, 53, 54, 55, 56, 59, 60, 61, 62, 63, 65, 66, 67, 68, 69, 70, 71, 73, 74, 76, 77, 78, 79, 80, 81, 82, 83, 84, 85, 86, 87, 88, 90, 91, 92, 93, 94, 95, 96, 97, 98, 99, 100, 102, 103, 104, 105, 106, 107, 108, 109, 110, 111, 112, 113, 114, 115, 116, 117, 118, 119, 120, 121, 122, 123, 124, 125, 126, 127, 128, 129, 130, 131, 132, 133, 134, 135, 136, 137, 138, 139, 140, 141, 143, 144, 145, 146, 148, 149, 150, 151, 152, 153, 154, 155, 156, 157, 158, 159, 160, 161, 162, 163, 164, 165, 166, 167, 168, 169, 170, 171, 172, 173, 174, 175, 176, 177, 178, 179, 180, 181, 182, 183, 184, 185, 186, 187, 188, 189, 190, 191, 192, 193, 194, 195, 196, 198, 199, 200, 201, 202, 203, 204, 205, 206, 207, 208, 209, 210, 211, 212, 213, 214, 215, 216, 217, 218, 219, 220, 221, 222, 223, 224, 225, 226, 227, 228, 229, 230, 231, 232, 233, 234, 235, 236, 237, 238, 239, 240, 241, 242, 243, 244, 245, 247, 248, 250, 251, 252, 253, 254, 255, 256, 257, 258, 259, 260, 262, 263, 264, 265, 266, 267, 268, 270, 271, 272, 273, 274, 275, 276, 277, 278, 279, 281, 282, 283, 284, 285, 286, 287, 288, 289, 290, 291, 292, 293, 295, 296, 297, 298, 300, 301, 302, 303, 304, 305, 306, 307, 308, 309, 310, 311, 312, 313, 314, 315, 316, 317, 318, 319, 320, 321, 323, 324, 325, 327, 328, 329, 330, 331, 332, 333, 334, 335, 336, 337, 338, 339, 340, 341, 342, 343, 344, 345, 347, 348, 349, 350, 352, 353, 354, 355, 356, 357, 358, 359, 361, 362, 363, 364, 365, 366, 367, 368, 369, 370, 371, 372, 373, 374, 375, 376, 377, 378, 380, 381, 382, 383, 384, 385, 386, 387, 388, 389, 390, 391, 392, 393, 394, 395, 396, 397, 398, 399, 400, 401, 402, 403, 405, 406, 407}\n"
     ]
    }
   ],
   "source": [
    "idx = df[\"subjID\"].to_numpy()\n",
    "idx = set(idx)\n",
    "n = len(idx)\n",
    "print(n)\n",
    "print(idx)"
   ]
  },
  {
   "cell_type": "code",
   "execution_count": 52,
   "id": "a919fe0e",
   "metadata": {},
   "outputs": [
    {
     "name": "stdout",
     "output_type": "stream",
     "text": [
      "mean perseverative error: 0.12480905149747154\n",
      "mean set-loss error: 0.0780393920066116\n"
     ]
    }
   ],
   "source": [
    "d = df[[\"gain\", \"rule_choice\", \"subjID\"]].to_numpy()\n",
    "\n",
    "perseverative_error_list = []\n",
    "set_loss_error_list = []\n",
    "\n",
    "for ix in idx:\n",
    "    \n",
    "    switch_count = 0\n",
    "    repeat_count = 0\n",
    "\n",
    "    perseverative_error = 0\n",
    "    set_loss_error = 0\n",
    "\n",
    "    for i in range(1, d.shape[0]):   \n",
    "           \n",
    "        if ix == d[i][2]:\n",
    "            \n",
    "            if d[i-1][0] == 0:\n",
    "                switch_count +=1\n",
    "\n",
    "                if d[i-1][1] == d[i][1]:\n",
    "                    perseverative_error += 1\n",
    "\n",
    "            if d[i-1][0] == 1:\n",
    "                repeat_count +=1\n",
    "                \n",
    "                if d[i-1][1] != d[i][1]:\n",
    "                    set_loss_error += 1\n",
    "\n",
    "    perseverative_error_list.append(perseverative_error/switch_count)\n",
    "    set_loss_error_list.append(set_loss_error/repeat_count)\n",
    "        \n",
    "        \n",
    "\n",
    "print(\"mean perseverative error:\", sum(perseverative_error_list)/n)\n",
    "print(\"mean set-loss error:\", sum(set_loss_error_list)/n)"
   ]
  }
 ],
 "metadata": {
  "kernelspec": {
   "display_name": "Python 3",
   "language": "python",
   "name": "python3"
  },
  "language_info": {
   "codemirror_mode": {
    "name": "ipython",
    "version": 3
   },
   "file_extension": ".py",
   "mimetype": "text/x-python",
   "name": "python",
   "nbconvert_exporter": "python",
   "pygments_lexer": "ipython3",
   "version": "3.9.6"
  }
 },
 "nbformat": 4,
 "nbformat_minor": 5
}
