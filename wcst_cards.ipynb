{
  "nbformat": 4,
  "nbformat_minor": 0,
  "metadata": {
    "colab": {
      "name": "Untitled0.ipynb",
      "provenance": []
    },
    "kernelspec": {
      "name": "python3",
      "display_name": "Python 3"
    },
    "language_info": {
      "name": "python"
    }
  },
  "cells": [
    {
      "cell_type": "code",
      "metadata": {
        "id": "Fec4tvb1WKK_"
      },
      "source": [
        "def card_generator(li_values, length):\n",
        "  \"generate cards given a list of values and the length of tuple.\"\n",
        "\n",
        "  from itertools import permutations\n",
        "  cards = list(permutations(li_values, length))\n",
        "\n",
        "  return cards"
      ],
      "execution_count": 1,
      "outputs": []
    },
    {
      "cell_type": "code",
      "metadata": {
        "colab": {
          "base_uri": "https://localhost:8080/"
        },
        "id": "8KqdMb-2Wkzm",
        "outputId": "51c009b3-ca86-49a9-9537-8fbf4627e96c"
      },
      "source": [
        "wcst_cards = card_generator([1,2,3,4], 3)\n",
        "\n",
        "print(len(wcst_cards))\n",
        "print(wcst_cards)"
      ],
      "execution_count": 3,
      "outputs": [
        {
          "output_type": "stream",
          "text": [
            "24\n",
            "[(1, 2, 3), (1, 2, 4), (1, 3, 2), (1, 3, 4), (1, 4, 2), (1, 4, 3), (2, 1, 3), (2, 1, 4), (2, 3, 1), (2, 3, 4), (2, 4, 1), (2, 4, 3), (3, 1, 2), (3, 1, 4), (3, 2, 1), (3, 2, 4), (3, 4, 1), (3, 4, 2), (4, 1, 2), (4, 1, 3), (4, 2, 1), (4, 2, 3), (4, 3, 1), (4, 3, 2)]\n"
          ],
          "name": "stdout"
        }
      ]
    }
  ]
}